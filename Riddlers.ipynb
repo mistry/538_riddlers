{
 "cells": [
  {
   "cell_type": "code",
   "execution_count": 90,
   "metadata": {},
   "outputs": [],
   "source": [
    "%matplotlib inline\n",
    "\n",
    "#plotting \n",
    "from matplotlib import pyplot as plt\n",
    "from matplotlib import animation\n",
    "from IPython.display import HTML, Image\n",
    "import seaborn as sns\n",
    "\n",
    "#other\n",
    "import numpy as np\n",
    "import collections\n",
    "\n",
    "#Style\n",
    "plt.rcParams['figure.figsize'] = [15, 10]\n",
    "plt.rcParams.update({'font.size': 15})\n",
    "plt.rc('animation', html='html5')\n",
    "\n",
    "sns.set_style(\"dark\")"
   ]
  },
  {
   "cell_type": "markdown",
   "metadata": {},
   "source": [
    "# Geyser Problem "
   ]
  },
  {
   "cell_type": "markdown",
   "metadata": {},
   "source": [
    "You arrive at the beautiful Three Geysers National Park. You read a placard explaining that the three eponymous geysers — creatively named A, B and C — erupt at intervals of precisely two hours, four hours and six hours, respectively. However, you just got there, so you have no idea how the three eruptions are staggered. Assuming they each started erupting at some independently random point in history, what are the probabilities that A, B and C, respectively, will be the first to erupt after your arrival?\n",
    "\n",
    "https://fivethirtyeight.com/features/which-geyser-gushes-first/"
   ]
  },
  {
   "cell_type": "markdown",
   "metadata": {},
   "source": [
    "## Analytic Solution"
   ]
  },
  {
   "cell_type": "markdown",
   "metadata": {},
   "source": [
    " Because A erupts every 2 hours, it must be that A will errupt within 2 hours  \n",
    "The probability for a single geyser to errupt within the first two hours is then: \n",
    "    + P(A2) = 1  \n",
    "    + P(B2) = 1/2   \n",
    "    + P(C2) = 1/3  \n",
    "  \n",
    "So then we have 4 cases to consider:  \n",
    "1. All geysers errupt within the first 2 hours\n",
    "2. A and B, but not C, erupt within 2 hours\n",
    "3. A and C, but not B, erupt within 2 hours\n",
    "4. Only A erupts within two hours.\n",
    "\n",
    "-----------\n",
    "+ Case 1:  \n",
    "P(A),P(B),P(C) **=**  P(A2) \\* P(B2) \\* P(C2) \\* (1/3)\n",
    "\n",
    "\n",
    "+ Case 2:  \n",
    "P(A),P(B) **=** P(A2) \\* P(B2) \\* (1-P(C2)) \\* (1/2)  \n",
    "P(C) = 0\n",
    "\n",
    "\n",
    "+ Case 3:  \n",
    "P(A),P(C) **=** P(A2) \\* (1-P(B2)) \\* P(C2) \\* (1/2)  \n",
    "P(B) = 0\n",
    "\n",
    "\n",
    "+ Case 4:  \n",
    "P(A) = P(A2) \\* (1-P(B2)) \\* (1-P(C2)) \\* (1)  \n",
    "P(B) = 0  \n",
    "P(C) = 0\n",
    "\n",
    "----------------\n",
    "Doing the math, and adding up each of the 4 cases:  \n",
    "P(A) = 23/36 ~ 0.64  \n",
    "P(B) = 8/26 ~ 0.22  \n",
    "P(C) = 5/36 ~ 0.14  "
   ]
  },
  {
   "cell_type": "markdown",
   "metadata": {},
   "source": [
    "## Experimental Solution"
   ]
  },
  {
   "cell_type": "code",
   "execution_count": 85,
   "metadata": {},
   "outputs": [
    {
     "name": "stdout",
     "output_type": "stream",
     "text": [
      "Fraction geyser A: 0.638 vs 0.639 (Real)\n",
      "Fraction geyser B: 0.223 vs 0.222 (Real)\n",
      "Fraction geyser C: 0.139 vs 0.139 (Real)\n"
     ]
    }
   ],
   "source": [
    "#Number of trials and storage of experiment outcomes\n",
    "n=1000000\n",
    "outcomes = []\n",
    "\n",
    "\n",
    "for t in range(0,n):\n",
    "    # when I arrive, I don't know when the geyser started and I don't know when it last errupted\n",
    "    # so its just a random chance between 0 and X hours where X is the time interval of the geyser\n",
    "    \n",
    "    #So just get random numbers for the time intervals of the geysers\n",
    "    # a = 0, b = 1, c = 2\n",
    "    geys = [np.random.uniform(0,2), np.random.uniform(0,4), np.random.uniform(0,6)]\n",
    "    \n",
    "    # and store the index, here a = 0, b = 1, c = 2\n",
    "    outcomes.append(geys.index(min(geys)))\n",
    "    \n",
    "counter=collections.Counter(outcomes)\n",
    "print(\"Fraction geyser A: %.3f vs %.3f (Real)\" % ((counter[0]/n),(23/36)))\n",
    "print(\"Fraction geyser B: %.3f vs %.3f (Real)\" % ((counter[1]/n),(8/36)))\n",
    "print(\"Fraction geyser C: %.3f vs %.3f (Real)\" % ((counter[2]/n),(5/36)))"
   ]
  },
  {
   "cell_type": "code",
   "execution_count": null,
   "metadata": {},
   "outputs": [],
   "source": []
  }
 ],
 "metadata": {
  "kernelspec": {
   "display_name": "Python 3",
   "language": "python",
   "name": "python3"
  },
  "language_info": {
   "codemirror_mode": {
    "name": "ipython",
    "version": 3
   },
   "file_extension": ".py",
   "mimetype": "text/x-python",
   "name": "python",
   "nbconvert_exporter": "python",
   "pygments_lexer": "ipython3",
   "version": "3.7.3"
  },
  "toc": {
   "base_numbering": 1,
   "nav_menu": {},
   "number_sections": true,
   "sideBar": true,
   "skip_h1_title": false,
   "title_cell": "Table of Contents",
   "title_sidebar": "Contents",
   "toc_cell": false,
   "toc_position": {},
   "toc_section_display": true,
   "toc_window_display": false
  }
 },
 "nbformat": 4,
 "nbformat_minor": 2
}
